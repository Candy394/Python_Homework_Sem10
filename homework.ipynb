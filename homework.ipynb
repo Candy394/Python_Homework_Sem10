import pandas as pd
import random
lst = ['robot'] * 10
lst += ['human'] * 10
random.shuffle(lst)
data = pd.DataFrame({'whoAmI':lst})
data.read()
data.loc[data['whoAmI'] == 'robot', 'robot'] = 1
data.loc[data['whoAmI'] == 'human', 'robot'] = 0
data.loc[data['whoAmI'] == 'human', 'human'] = 1
data.loc[data['whoAmI'] == 'robot', 'human'] = 0
data1 = data[['robot','human']]
data1.read()
